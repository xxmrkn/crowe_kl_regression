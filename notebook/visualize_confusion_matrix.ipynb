{
 "cells": [
  {
   "cell_type": "code",
   "execution_count": 3,
   "metadata": {},
   "outputs": [],
   "source": [
    "import seaborn as sns\n",
    "import pickle\n",
    "import numpy as np\n",
    "import matplotlib.pyplot as plt\n",
    "import pandas as pd\n",
    "from sklearn.metrics import classification_report, confusion_matrix\n",
    "\n",
    "PATH = \"\"\n",
    "MODEL = \"VisionTransformer_Base16\"\n",
    "FOLD = 4\n",
    "EPOCH = 300\n"
   ]
  },
  {
   "cell_type": "code",
   "execution_count": 6,
   "metadata": {},
   "outputs": [
    {
     "data": {
      "text/plain": [
       "array([[1605,   70,    5,    0,    0,    0,    0],\n",
       "       [ 458,  380,   42,   20,    0,    0,    0],\n",
       "       [  23,   89,  310,  283,    0,    0,    0],\n",
       "       [   0,    2,   78, 1966,   54,    0,    0],\n",
       "       [   0,    0,    0,  156,   89,   25,    0],\n",
       "       [   0,    0,    0,   55,   21,  104,    0],\n",
       "       [   0,    0,    0,   21,    0,   34,   20]], dtype=int64)"
      ]
     },
     "execution_count": 6,
     "metadata": {},
     "output_type": "execute_result"
    }
   ],
   "source": [
    "total_cmatrix = 0\n",
    "\n",
    "for i in range(8,23):\n",
    "    df = pd.read_csv(PATH+MODEL+f'\\\\1121_for_paper_results_datalist{i}_uncertainty_300epoch_iter50.csv')\n",
    "    true_label = df['True Label']\n",
    "    pred_label = df['Pred Label']\n",
    "    total_cmatrix += confusion_matrix(true_label, pred_label)\n",
    "\n",
    "total_cmatrix"
   ]
  },
  {
   "cell_type": "code",
   "execution_count": 7,
   "metadata": {},
   "outputs": [
    {
     "name": "stdout",
     "output_type": "stream",
     "text": [
      "taikaku1:4474, taikaku2:1310, taikaku_total:5784\n",
      "dataset_size:5910, other1:1436, other2:126\n",
      "\n",
      "normal_acc:0.7570219966159052, neighbor_acc:0.9786802030456853\n",
      "taikaku1:4474, taikaku2:1310\n"
     ]
    }
   ],
   "source": [
    "def acc(matrix,dataset_size):\n",
    "        taikaku1 = sum(np.diag(matrix)) #対角成分\n",
    "        taikaku2 = sum(np.diag(matrix, k=1)) + sum(np.diag(matrix, k=-1)) #対角成分の両サイド\n",
    "        other1 = dataset_size-taikaku1#normal\n",
    "        other2 = dataset_size-taikaku1-taikaku2 #1 neighbor\n",
    "        # print(taikaku1,taikaku2)\n",
    "        print(f'taikaku1:{taikaku1}, taikaku2:{taikaku2}, taikaku_total:{taikaku1+taikaku2}')\n",
    "        print(f'dataset_size:{dataset_size}, other1:{other1}, other2:{other2}')\n",
    "        return taikaku1/dataset_size,(taikaku1+taikaku2)/dataset_size,taikaku1,taikaku2\n",
    "\n",
    "\n",
    "normal_acc, neighbor_acc, taikaku1,taikaku2 = acc(total_cmatrix,np.sum(total_cmatrix))\n",
    "print()\n",
    "\n",
    "print(f'normal_acc:{normal_acc}, neighbor_acc:{neighbor_acc}')\n",
    "print(f'taikaku1:{taikaku1}, taikaku2:{taikaku2}')"
   ]
  },
  {
   "cell_type": "code",
   "execution_count": null,
   "metadata": {},
   "outputs": [],
   "source": [
    "sns.set(font_scale = 2.5)\n",
    "cm = pd.DataFrame(data=total_cmatrix, \n",
    "                  index=['Crowe 1, KL 1',\n",
    "                         'Crowe 1, KL 2',\n",
    "                         'Crowe 1, KL 3',\n",
    "                         'Crowe 1, KL 4',\n",
    "                         'Crowe 2, KL 4',\n",
    "                         'Crowe 3, KL 4',\n",
    "                         'Crowe 4, KL 4'], \n",
    "                  columns=['Crowe 1, KL 1',\n",
    "                           'Crowe 1, KL 2',\n",
    "                           'Crowe 1, KL 3',\n",
    "                           'Crowe 1, KL 4',\n",
    "                           'Crowe 2, KL 4',\n",
    "                           'Crowe 3, KL 4',\n",
    "                           'Crowe 4, KL 4'])\n",
    "\n",
    "plt.figure(figsize=(15, 15))\n",
    "\n",
    "#944枚使ったときにいい感じのグラデになるやつ#sns.heatmap(cm, \n",
    "#                                                    square=True, \n",
    "#                                                    cbar=True, \n",
    "#                                                    annot=True,\n",
    "#                                                    cmap='Blues',\n",
    "#                                                    fmt='d',\n",
    "#                                                    vmax=200,\n",
    "#                                                    vmin=0,\n",
    "#                                                    center=120)\n",
    "\n",
    "sns.heatmap(cm,\n",
    "            square=True, \n",
    "            cbar=True,\n",
    "            annot=True, \n",
    "            cmap='Blues',\n",
    "            fmt='d',\n",
    "            vmax=1000,\n",
    "            vmin=0,\n",
    "            center=500,\n",
    "            annot_kws={\"size\":20})\n",
    "\n",
    "#sns.heatmap(cm, square=True, cbar=True, annot=True, cmap='GnBu',fmt='d',vmax=40, vmin=-10, center=0)\n",
    "#sns.heatmap(cm, square=True, cbar=True, annot=True, cmap='BuPu',fmt='d',vmax=40, vmin=-10, center=0)\n",
    "\n",
    "plt.title(f'{MODEL}   {FOLD}Fold  {EPOCH}Epoch\\nExact Class Acc: {normal_acc:.4f}'\n",
    "          f'({taikaku1}/{np.sum(total_cmatrix)})\\n1-Neighbor Class Acc: {neighbor_acc:.4f}  ({taikaku1+taikaku2}/{np.sum(total_cmatrix)})')\n",
    "#plt.title(f'Confusion Matrix')\n",
    "plt.yticks(rotation=0)\n",
    "plt.xticks(rotation=45)\n",
    "plt.xlabel(\"Predicted Label\", fontsize=30, rotation=0)\n",
    "plt.ylabel(\"True Label\", fontsize=30)\n",
    "plt.subplots_adjust(left=0.1, right=0.95, bottom=0.1, top=0.95)"
   ]
  },
  {
   "cell_type": "code",
   "execution_count": null,
   "metadata": {},
   "outputs": [],
   "source": []
  }
 ],
 "metadata": {
  "kernelspec": {
   "display_name": "Python 3.9.13 ('torchenv')",
   "language": "python",
   "name": "python3"
  },
  "language_info": {
   "codemirror_mode": {
    "name": "ipython",
    "version": 3
   },
   "file_extension": ".py",
   "mimetype": "text/x-python",
   "name": "python",
   "nbconvert_exporter": "python",
   "pygments_lexer": "ipython3",
   "version": "3.9.13"
  },
  "orig_nbformat": 4,
  "vscode": {
   "interpreter": {
    "hash": "ca158e376228993f643fe5052324b88f9aa7c955af3c91838e6bdc3e00fac5cf"
   }
  }
 },
 "nbformat": 4,
 "nbformat_minor": 2
}
