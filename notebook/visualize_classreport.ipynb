{
 "cells": [
  {
   "cell_type": "code",
   "execution_count": 1,
   "metadata": {},
   "outputs": [
    {
     "name": "stdout",
     "output_type": "stream",
     "text": [
      "              precision    recall  f1-score   support\n",
      "\n",
      "           0       0.71      0.84      0.77        38\n",
      "           1       0.31      0.28      0.29        18\n",
      "           2       0.57      0.29      0.38        14\n",
      "           3       0.82      0.89      0.85        36\n",
      "           4       0.75      0.60      0.67         5\n",
      "           5       0.40      0.50      0.44         4\n",
      "           6       1.00      0.67      0.80         3\n",
      "\n",
      "    accuracy                           0.68       118\n",
      "   macro avg       0.65      0.58      0.60       118\n",
      "weighted avg       0.67      0.68      0.66       118\n",
      "\n"
     ]
    }
   ],
   "source": [
    "import pickle\n",
    "import numpy as np\n",
    "import pandas as pd\n",
    "from sklearn.metrics import classification_report\n",
    "\n",
    "\n",
    "PATH = f\"\"\n",
    "\n",
    "with open(PATH,'rb') as f:\n",
    "    cls_repo = pickle.load(f)\n",
    "\n",
    "\n",
    "print(cls_repo)\n"
   ]
  },
  {
   "cell_type": "code",
   "execution_count": null,
   "metadata": {},
   "outputs": [],
   "source": []
  }
 ],
 "metadata": {
  "kernelspec": {
   "display_name": "Python 3.9.13 ('torchenv')",
   "language": "python",
   "name": "python3"
  },
  "language_info": {
   "codemirror_mode": {
    "name": "ipython",
    "version": 3
   },
   "file_extension": ".py",
   "mimetype": "text/x-python",
   "name": "python",
   "nbconvert_exporter": "python",
   "pygments_lexer": "ipython3",
   "version": "3.9.13"
  },
  "orig_nbformat": 4,
  "vscode": {
   "interpreter": {
    "hash": "ca158e376228993f643fe5052324b88f9aa7c955af3c91838e6bdc3e00fac5cf"
   }
  }
 },
 "nbformat": 4,
 "nbformat_minor": 2
}
